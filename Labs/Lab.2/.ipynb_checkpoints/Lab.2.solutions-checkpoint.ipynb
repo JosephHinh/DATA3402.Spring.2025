{
 "cells": [
  {
   "cell_type": "markdown",
   "metadata": {},
   "source": [
    "# Joseph Hinh Duong\n",
    "## Lab 2- Tic Tac Toe\n",
    "\n",
    "In this lab your will build a n x n Tic Tac Toe game. As you do the exercises, make sure your solutions work for any size Tic Tac Toe game. "
   ]
  },
  {
   "cell_type": "markdown",
   "metadata": {},
   "source": [
    "*Exercise 1:* Write a function that creates an n by n matrix (of list of lists) which will represent the state of a Tie Tac Toe game. Let 0, 1, and 2 represent empty, \"X\", and \"O\", respectively.\n"
   ]
  },
  {
   "cell_type": "code",
   "execution_count": 4,
   "metadata": {},
   "outputs": [],
   "source": [
    "def create_matrix(n):\n",
    "    return [[0 for _ in range(n)] for _ in range(n)]"
   ]
  },
  {
   "cell_type": "code",
   "execution_count": 7,
   "metadata": {},
   "outputs": [
    {
     "name": "stdout",
     "output_type": "stream",
     "text": [
      "[0, 0, 0]\n",
      "[0, 0, 0]\n",
      "[0, 0, 0]\n"
     ]
    }
   ],
   "source": [
    "matrix=create_matrix(3)\n",
    "for row in matrix:\n",
    "    print(row)"
   ]
  },
  {
   "cell_type": "markdown",
   "metadata": {},
   "source": [
    "*Exercise 2:* Write a function that takes 2 integers `n` and `m` as input and draws a `n` by `m` game board. For example the following is a 3x3 board:\n",
    "```\n",
    "   --- --- --- \n",
    "  |   |   |   | \n",
    "   --- --- ---  \n",
    "  |   |   |   | \n",
    "   --- --- ---  \n",
    "  |   |   |   | \n",
    "   --- --- --- \n",
    "   ```"
   ]
  },
  {
   "cell_type": "code",
   "execution_count": 114,
   "metadata": {},
   "outputs": [],
   "source": [
    "def make_board(n, m):\n",
    "    for i in range(n):\n",
    "        print(\" ---\" * m)\n",
    "        print(\"|   \" * (m + 1))\n",
    "    print(\" ---\" * m)"
   ]
  },
  {
   "cell_type": "code",
   "execution_count": 115,
   "metadata": {},
   "outputs": [
    {
     "name": "stdout",
     "output_type": "stream",
     "text": [
      " --- --- ---\n",
      "|   |   |   |   \n",
      " --- --- ---\n",
      "|   |   |   |   \n",
      " --- --- ---\n",
      "|   |   |   |   \n",
      " --- --- ---\n"
     ]
    }
   ],
   "source": [
    "make_board(3,3)"
   ]
  },
  {
   "cell_type": "markdown",
   "metadata": {},
   "source": [
    "*Exercise 3:* Modify exercise 2, so that it takes a matrix of the form from exercise 1 and draws a tic-tac-tie board with \"X\"s and \"O\"s.  "
   ]
  },
  {
   "cell_type": "code",
   "execution_count": 32,
   "metadata": {},
   "outputs": [],
   "source": [
    "def draw_board(matrix):\n",
    "    symbols = {0: \" \", 1: \"X\", 2: \"O\"}\n",
    "    n = len(matrix)\n",
    "    for row in matrix:\n",
    "        print(\" ---\" * n)\n",
    "        print(\"| \" + \" | \".join(symbols[cell] for cell in row) + \" |\")\n",
    "    print(\" ---\" * n)"
   ]
  },
  {
   "cell_type": "code",
   "execution_count": 33,
   "metadata": {},
   "outputs": [
    {
     "name": "stdout",
     "output_type": "stream",
     "text": [
      " --- --- ---\n",
      "| X | O |   |\n",
      " --- --- ---\n",
      "| X |   |   |\n",
      " --- --- ---\n",
      "| X |   | O |\n",
      " --- --- ---\n"
     ]
    }
   ],
   "source": [
    "board = [\n",
    "    [1, 2, 0],\n",
    "    [1, 0, 0],\n",
    "    [1, 0, 2]\n",
    "]\n",
    "draw_board(board)"
   ]
  },
  {
   "cell_type": "markdown",
   "metadata": {},
   "source": [
    "*Exercise 4:* Write a function that takes a `n` by `n` matrix representing a tic-tac-toe game, and returns -1, 0, 1, or 2 indicating the game is incomplete, the game is a draw, player 1 has won, or player 2 has one, respectively. Here are some example inputs you can use to test your code:"
   ]
  },
  {
   "cell_type": "code",
   "execution_count": 28,
   "metadata": {},
   "outputs": [],
   "source": [
    "def check_winner(board):\n",
    "    n = len(board)\n",
    "    \n",
    "    for i in range(n):\n",
    "        if all(board[i][j] == 1 for j in range(n)):\n",
    "            return 1\n",
    "        if all(board[i][j] == 2 for j in range(n)):  \n",
    "            return 2\n",
    "        if all(board[j][i] == 1 for j in range(n)):\n",
    "            return 1\n",
    "        if all(board[j][i] == 2 for j in range(n)):\n",
    "            return 2\n",
    "\n",
    "    # Check diagonals for a win\n",
    "    if all(board[i][i] == 1 for i in range(n)) or all(board[i][n - 1 - i] == 1 for i in range(n)):\n",
    "        return 1\n",
    "    if all(board[i][i] == 2 for i in range(n)) or all(board[i][n - 1 - i] == 2 for i in range(n)):\n",
    "        return 2\n",
    "\n",
    "    if any(0 in row for row in board):\n",
    "        return -1\n",
    "\n",
    "    return 0"
   ]
  },
  {
   "cell_type": "code",
   "execution_count": 29,
   "metadata": {},
   "outputs": [
    {
     "name": "stdout",
     "output_type": "stream",
     "text": [
      "2\n",
      "1\n",
      "1\n",
      "-1\n",
      "-1\n"
     ]
    }
   ],
   "source": [
    "print(check_winner(winner_is_2))\n",
    "print(check_winner(winner_is_1))\n",
    "print(check_winner(winner_is_also_1))\n",
    "print(check_winner(no_winner))\n",
    "print(check_winner(also_no_winner))"
   ]
  },
  {
   "cell_type": "code",
   "execution_count": 30,
   "metadata": {},
   "outputs": [],
   "source": [
    "winner_is_2 = [\n",
    "    [2, 2, 0],\n",
    "\t[2, 1, 0],\n",
    "\t[2, 1, 1]]\n",
    "\n",
    "winner_is_1 = [\n",
    "    [1, 2, 0],\n",
    "\t[2, 1, 0],\n",
    "\t[2, 1, 1]]\n",
    "\n",
    "winner_is_also_1 = [\n",
    "    [0, 1, 0],\n",
    "\t[2, 1, 0],\n",
    "\t[2, 1, 1]]\n",
    "\n",
    "no_winner = [\n",
    "    [1, 2, 0],\n",
    "\t[2, 1, 0],\n",
    "\t[2, 1, 2]]\n",
    "\n",
    "also_no_winner = [\n",
    "    [1, 2, 0],\n",
    "\t[2, 1, 0],\n",
    "\t[2, 1, 0]]"
   ]
  },
  {
   "cell_type": "markdown",
   "metadata": {},
   "source": [
    "*Exercise 5:* Write a function that takes a game board, player number, and `(x,y)` coordinates and places \"X\" or \"O\" in the correct location of the game board. Make sure that you only allow filling previously empty locations. Return `True` or `False` to indicate successful placement of \"X\" or \"O\"."
   ]
  },
  {
   "cell_type": "code",
   "execution_count": 58,
   "metadata": {},
   "outputs": [],
   "source": [
    "def make_move(board, player, x, y):\n",
    "    n = len(board)\n",
    "    \n",
    "    if 0 <= x < n and 0 <= y < n and board[x][y] == 0:\n",
    "        board[x][y] = player\n",
    "        return True\n",
    "    return False\n",
    "\n",
    "game_board = [[0, 0, 1],\n",
    "              [0, 0, 0],\n",
    "              [0, 0, 0]]"
   ]
  },
  {
   "cell_type": "code",
   "execution_count": 59,
   "metadata": {},
   "outputs": [
    {
     "name": "stdout",
     "output_type": "stream",
     "text": [
      "True\n",
      "[0, 0, 1]\n",
      "[0, 2, 0]\n",
      "[0, 0, 0]\n",
      "False\n",
      "[0, 0, 1]\n",
      "[0, 2, 0]\n",
      "[0, 0, 0]\n",
      " --- --- ---\n",
      "|   |   | X |\n",
      " --- --- ---\n",
      "|   | O |   |\n",
      " --- --- ---\n",
      "|   |   |   |\n",
      " --- --- ---\n"
     ]
    },
    {
     "data": {
      "text/plain": [
       "-1"
      ]
     },
     "execution_count": 59,
     "metadata": {},
     "output_type": "execute_result"
    }
   ],
   "source": [
    "move1 = make_move(game_board, 2, 1, 1)\n",
    "print(move1)\n",
    "for row in game_board:\n",
    "    print(row)\n",
    "\n",
    "move2 = make_move(game_board, 1, 0, 2)\n",
    "print(move2)\n",
    "for row in game_board:\n",
    "    print(row)\n",
    "\n",
    "draw_board(game_board)\n",
    "check_winner(game_board)"
   ]
  },
  {
   "cell_type": "markdown",
   "metadata": {},
   "source": [
    "*Exercise 6:* Modify Exercise 3 to show column and row labels so that players can specify location using \"A2\" or \"C1\"."
   ]
  },
  {
   "cell_type": "code",
   "execution_count": 54,
   "metadata": {},
   "outputs": [],
   "source": [
    "import string\n",
    "def draw_labelled_board(matrix):\n",
    "    symbols={0: \" \", 1: \"X\", 2: \"O\"}\n",
    "    n=len(matrix)\n",
    "\n",
    "    col_labels= \"    \" + \"   \".join(string.ascii_uppercase[:n])\n",
    "    print(col_labels)\n",
    "    \n",
    "    for i, row in enumerate(matrix):\n",
    "        print(\"  \" + \" ---\" * n)\n",
    "        row_str = f\"{i+1} \" + \"| \" + \" | \".join(symbols[cell] for cell in row) + \" |\"\n",
    "        print(row_str)\n",
    "    print(\"  \" + \" ---\" * n)"
   ]
  },
  {
   "cell_type": "code",
   "execution_count": 55,
   "metadata": {},
   "outputs": [
    {
     "name": "stdout",
     "output_type": "stream",
     "text": [
      "    A   B   C\n",
      "   --- --- ---\n",
      "1 | X | O |   |\n",
      "   --- --- ---\n",
      "2 | X |   |   |\n",
      "   --- --- ---\n",
      "3 | X |   | O |\n",
      "   --- --- ---\n"
     ]
    }
   ],
   "source": [
    "board = [\n",
    "    [1, 2, 0],\n",
    "    [1, 0, 0],\n",
    "    [1, 0, 2]\n",
    "]\n",
    "\n",
    "draw_labelled_board(board)"
   ]
  },
  {
   "cell_type": "markdown",
   "metadata": {},
   "source": [
    "*Exercise 7:* Write a function that takes a board, player number, and location specified as in exercise 6 and then calls exercise 5 to correctly modify the board.  "
   ]
  },
  {
   "cell_type": "code",
   "execution_count": 86,
   "metadata": {},
   "outputs": [],
   "source": [
    "import string\n",
    "\n",
    "def assign_location(location, board_size):\n",
    "    if len(location) < 2:\n",
    "        return None\n",
    "\n",
    "    col_letter = location[0].upper()\n",
    "    row_number = location[1:]\n",
    "\n",
    "    if col_letter not in string.ascii_uppercase[:board_size]:\n",
    "        return None\n",
    "\n",
    "    if not row_number.isdigit():\n",
    "        return None\n",
    "\n",
    "    row = int(row_number) - 1\n",
    "    col = string.ascii_uppercase.index(col_letter)\n",
    "\n",
    "    if 0 <= row < board_size and 0 <= col < board_size:\n",
    "        return row, col\n",
    "    return None\n",
    "\n",
    "def place_move(board, player, x, y):\n",
    "    if board[x][y] == 0:\n",
    "        board[x][y] = player\n",
    "        return True\n",
    "    return False\n",
    "\n",
    "def place_move_labeled(board, player, location):\n",
    "    board_size = len(board)\n",
    "    parsed_coords = assign_location(location, board_size)\n",
    "\n",
    "    if parsed_coords:\n",
    "        x, y = parsed_coords\n",
    "        return place_move(board, player, x, y)\n",
    "    return False\n",
    "\n",
    "def draw_labeled_board(matrix):\n",
    "    symbol_map = {0: \" \", 1: \"X\", 2: \"O\"}\n",
    "    n = len(matrix)\n",
    "    \n",
    "    col_labels = \"   \" + \"   \".join(string.ascii_uppercase[:n])\n",
    "    print(col_labels)\n",
    "\n",
    "    for i, row in enumerate(matrix):\n",
    "        print(\"  \" + \" ---\" * n)\n",
    "        row_str = f\"{i+1} \" + \"| \" + \" | \".join(symbol_map[cell] for cell in row) + \" |\"\n",
    "        print(row_str)\n",
    "    print(\"  \" + \" ---\" * n)"
   ]
  },
  {
   "cell_type": "code",
   "execution_count": 87,
   "metadata": {},
   "outputs": [
    {
     "name": "stdout",
     "output_type": "stream",
     "text": [
      "True\n",
      "   A   B   C\n",
      "   --- --- ---\n",
      "1 |   |   | X |\n",
      "   --- --- ---\n",
      "2 |   | O |   |\n",
      "   --- --- ---\n",
      "3 |   |   | X |\n",
      "   --- --- ---\n"
     ]
    }
   ],
   "source": [
    "board = [\n",
    "    [0, 0, 1],\n",
    "    [0, 2, 0],\n",
    "    [0, 0, 0]\n",
    "]\n",
    "\n",
    "if place_move_labeled(board, 1, \"C3\"):\n",
    "    print(True)\n",
    "else:\n",
    "    print(False)\n",
    "\n",
    "draw_labeled_board(board)"
   ]
  },
  {
   "cell_type": "markdown",
   "metadata": {},
   "source": [
    "*Exercise 8:* Write a function is called with a board and player number, takes input from the player using python's `input`, and modifies the board using your function from exercise 7. Note that you should keep asking for input until you have gotten a valid input that results in a valid move."
   ]
  },
  {
   "cell_type": "code",
   "execution_count": 94,
   "metadata": {},
   "outputs": [],
   "source": [
    "def player_turn(board, player):\n",
    "    while True:\n",
    "        move = input(f\"Player {player} ({'X' if player == 1 else 'O'}), enter your move (e.g., A1, B3): \").strip().upper()\n",
    "        \n",
    "        if place_move_labeled(board, player, move):\n",
    "            print(\"\\nMove accepted!\\n\")\n",
    "            draw_tic_tac_toe_board_labeled(board)\n",
    "            break\n",
    "        else:\n",
    "            print(\"Try again.\")"
   ]
  },
  {
   "cell_type": "code",
   "execution_count": 95,
   "metadata": {},
   "outputs": [
    {
     "name": "stdout",
     "output_type": "stream",
     "text": [
      "   A   B   C\n",
      "   --- --- ---\n",
      "1 |   |   | X |\n",
      "   --- --- ---\n",
      "2 |   | O |   |\n",
      "   --- --- ---\n",
      "3 |   |   |   |\n",
      "   --- --- ---\n",
      "Player 1 (X), enter your move (e.g., A1, B3): C3\n",
      "\n",
      "Move accepted!\n",
      "\n",
      "   A   B   C\n",
      "   --- --- ---\n",
      "1 |   |   | X |\n",
      "   --- --- ---\n",
      "2 |   | O |   |\n",
      "   --- --- ---\n",
      "3 |   |   | X |\n",
      "   --- --- ---\n",
      "Player 2 (O), enter your move (e.g., A1, B3): C2\n",
      "\n",
      "Move accepted!\n",
      "\n",
      "   A   B   C\n",
      "   --- --- ---\n",
      "1 |   |   | X |\n",
      "   --- --- ---\n",
      "2 |   | O | O |\n",
      "   --- --- ---\n",
      "3 |   |   | X |\n",
      "   --- --- ---\n"
     ]
    }
   ],
   "source": [
    "board = [\n",
    "    [0, 0, 1],\n",
    "    [0, 2, 0],\n",
    "    [0, 0, 0]\n",
    "]\n",
    "\n",
    "draw_labeled_board(board)\n",
    "player_turn(board, 1) \n",
    "player_turn(board, 2)"
   ]
  },
  {
   "cell_type": "markdown",
   "metadata": {},
   "source": [
    "*Exercise 9:* Use all of the previous exercises to implement a full tic-tac-toe game, where an appropriate board is drawn, 2 players are repeatedly asked for a location coordinates of where they wish to place a mark, and the game status is checked until a player wins or a draw occurs."
   ]
  },
  {
   "cell_type": "code",
   "execution_count": 107,
   "metadata": {},
   "outputs": [],
   "source": [
    "import string\n",
    "\n",
    "def assign_location(location, board_size):\n",
    "    if len(location) < 2:\n",
    "        return None\n",
    "    \n",
    "    col_letter = location[0].upper()\n",
    "    row_number = location[1:]\n",
    "    \n",
    "    if col_letter not in string.ascii_uppercase[:board_size]:\n",
    "        return None\n",
    "    \n",
    "    if not row_number.isdigit():\n",
    "        return None\n",
    "\n",
    "    row = int(row_number) - 1\n",
    "    col = string.ascii_uppercase.index(col_letter)\n",
    "\n",
    "    if 0 <= row < board_size and 0 <= col < board_size:\n",
    "        return row, col\n",
    "    return None\n",
    "\n",
    "def place_move(board, player, x, y):\n",
    "    if board[x][y] == 0:\n",
    "        board[x][y] = player\n",
    "        return True\n",
    "    return False\n",
    "\n",
    "def place_move_labeled(board, player, location):\n",
    "    board_size = len(board)\n",
    "    parsed_coords = assign_location(location, board_size)\n",
    "\n",
    "    if parsed_coords:\n",
    "        x, y = parsed_coords\n",
    "        return place_move(board, player, x, y)\n",
    "    return False\n",
    "\n",
    "def draw_labeled_board(matrix):\n",
    "    symbol_map = {0: \" \", 1: \"X\", 2: \"O\"}\n",
    "    n = len(matrix)\n",
    "    \n",
    "    col_labels = \"   \" + \"   \".join(string.ascii_uppercase[:n])\n",
    "    print(col_labels)\n",
    "\n",
    "    for i, row in enumerate(matrix):\n",
    "        print(\"  \" + \"---\" * n)\n",
    "        row_str = f\"{i+1} \" + \"| \" + \" | \".join(symbol_map[cell] for cell in row) + \" |\"\n",
    "        print(row_str)\n",
    "    print(\"  \" + \"---\" * n)\n",
    "\n",
    "def check_winner(board):\n",
    "    n = len(board)\n",
    "\n",
    "    for i in range(n):\n",
    "        if board[i][0] != 0 and all(board[i][j] == board[i][0] for j in range(n)):\n",
    "            return board[i][0]\n",
    "        if board[0][i] != 0 and all(board[j][i] == board[0][i] for j in range(n)):\n",
    "            return board[0][i]\n",
    "\n",
    "    if board[0][0] != 0 and all(board[i][i] == board[0][0] for i in range(n)):\n",
    "        return board[0][0]\n",
    "    if board[0][n-1] != 0 and all(board[i][n-i-1] == board[0][n-1] for i in range(n)):\n",
    "        return board[0][n-1]\n",
    "\n",
    "    if any(0 in row for row in board):\n",
    "        return -1\n",
    "\n",
    "    return 0\n",
    "\n",
    "def player_turn(board, player):\n",
    "    while True:\n",
    "        move = input(f\"Player {player} ({'X' if player == 1 else 'O'}), enter your move (e.g., A1, B3): \").strip().upper()\n",
    "        \n",
    "        if place_move_labeled(board, player, move):\n",
    "            print(\"\\nMove accepted!\\n\")\n",
    "            draw_tic_tac_toe_board_labeled(board)\n",
    "            break\n",
    "        else:\n",
    "            print(\"Invalid move. Try again.\")\n",
    "\n",
    "def tic_tac_toe():\n",
    "    print(\"Welcome to Tic-Tac-Toe!\")\n",
    "    size = 3\n",
    "    board = [[0] * size for _ in range(size)]\n",
    "\n",
    "    draw_tic_tac_toe_board_labeled(board)\n",
    "    \n",
    "    current_player = 1\n",
    "\n",
    "    while True:\n",
    "        player_turn(board, current_player)\n",
    "        status = check_winner(board)\n",
    "\n",
    "        if status == 1:\n",
    "            print(\"Player 1 (X) wins!\")\n",
    "            break\n",
    "        elif status == 2:\n",
    "            print(\"Player 2 (O) wins!\")\n",
    "            break\n",
    "        elif status == 0:\n",
    "            print(\"It's a draw!\")\n",
    "            break\n",
    "\n",
    "        current_player = 2 if current_player == 1 else 1"
   ]
  },
  {
   "cell_type": "code",
   "execution_count": 108,
   "metadata": {},
   "outputs": [
    {
     "name": "stdout",
     "output_type": "stream",
     "text": [
      "Welcome to Tic-Tac-Toe!\n",
      "   A   B   C\n",
      "   --- --- ---\n",
      "1 |   |   |   |\n",
      "   --- --- ---\n",
      "2 |   |   |   |\n",
      "   --- --- ---\n",
      "3 |   |   |   |\n",
      "   --- --- ---\n",
      "Player 1 (X), enter your move (e.g., A1, B3): C1\n",
      "\n",
      "Move accepted!\n",
      "\n",
      "   A   B   C\n",
      "   --- --- ---\n",
      "1 |   |   | X |\n",
      "   --- --- ---\n",
      "2 |   |   |   |\n",
      "   --- --- ---\n",
      "3 |   |   |   |\n",
      "   --- --- ---\n",
      "Player 2 (O), enter your move (e.g., A1, B3): B2\n",
      "\n",
      "Move accepted!\n",
      "\n",
      "   A   B   C\n",
      "   --- --- ---\n",
      "1 |   |   | X |\n",
      "   --- --- ---\n",
      "2 |   | O |   |\n",
      "   --- --- ---\n",
      "3 |   |   |   |\n",
      "   --- --- ---\n",
      "Player 1 (X), enter your move (e.g., A1, B3): A1\n",
      "\n",
      "Move accepted!\n",
      "\n",
      "   A   B   C\n",
      "   --- --- ---\n",
      "1 | X |   | X |\n",
      "   --- --- ---\n",
      "2 |   | O |   |\n",
      "   --- --- ---\n",
      "3 |   |   |   |\n",
      "   --- --- ---\n",
      "Player 2 (O), enter your move (e.g., A1, B3): B2\n",
      "Invalid move. Try again.\n",
      "Player 2 (O), enter your move (e.g., A1, B3): B1\n",
      "\n",
      "Move accepted!\n",
      "\n",
      "   A   B   C\n",
      "   --- --- ---\n",
      "1 | X | O | X |\n",
      "   --- --- ---\n",
      "2 |   | O |   |\n",
      "   --- --- ---\n",
      "3 |   |   |   |\n",
      "   --- --- ---\n",
      "Player 1 (X), enter your move (e.g., A1, B3): A3\n",
      "\n",
      "Move accepted!\n",
      "\n",
      "   A   B   C\n",
      "   --- --- ---\n",
      "1 | X | O | X |\n",
      "   --- --- ---\n",
      "2 |   | O |   |\n",
      "   --- --- ---\n",
      "3 | X |   |   |\n",
      "   --- --- ---\n",
      "Player 2 (O), enter your move (e.g., A1, B3): B2\n",
      "Invalid move. Try again.\n",
      "Player 2 (O), enter your move (e.g., A1, B3): A2\n",
      "\n",
      "Move accepted!\n",
      "\n",
      "   A   B   C\n",
      "   --- --- ---\n",
      "1 | X | O | X |\n",
      "   --- --- ---\n",
      "2 | O | O |   |\n",
      "   --- --- ---\n",
      "3 | X |   |   |\n",
      "   --- --- ---\n",
      "Player 1 (X), enter your move (e.g., A1, B3): C2\n",
      "\n",
      "Move accepted!\n",
      "\n",
      "   A   B   C\n",
      "   --- --- ---\n",
      "1 | X | O | X |\n",
      "   --- --- ---\n",
      "2 | O | O | X |\n",
      "   --- --- ---\n",
      "3 | X |   |   |\n",
      "   --- --- ---\n",
      "Player 2 (O), enter your move (e.g., A1, B3): C3\n",
      "\n",
      "Move accepted!\n",
      "\n",
      "   A   B   C\n",
      "   --- --- ---\n",
      "1 | X | O | X |\n",
      "   --- --- ---\n",
      "2 | O | O | X |\n",
      "   --- --- ---\n",
      "3 | X |   | O |\n",
      "   --- --- ---\n",
      "Player 1 (X), enter your move (e.g., A1, B3): B3\n",
      "\n",
      "Move accepted!\n",
      "\n",
      "   A   B   C\n",
      "   --- --- ---\n",
      "1 | X | O | X |\n",
      "   --- --- ---\n",
      "2 | O | O | X |\n",
      "   --- --- ---\n",
      "3 | X | X | O |\n",
      "   --- --- ---\n",
      "It's a draw!\n"
     ]
    }
   ],
   "source": [
    "tic_tac_toe()"
   ]
  },
  {
   "cell_type": "markdown",
   "metadata": {},
   "source": [
    "*Exercise 10:* Test that your game works for 5x5 Tic Tac Toe.  "
   ]
  },
  {
   "cell_type": "code",
   "execution_count": 109,
   "metadata": {
    "scrolled": true
   },
   "outputs": [
    {
     "name": "stdout",
     "output_type": "stream",
     "text": [
      "Welcome to Tic-Tac-Toe!\n",
      "   A   B   C   D   E\n",
      "   --- --- --- --- ---\n",
      "1 |   |   |   |   |   |\n",
      "   --- --- --- --- ---\n",
      "2 |   |   |   |   |   |\n",
      "   --- --- --- --- ---\n",
      "3 |   |   |   |   |   |\n",
      "   --- --- --- --- ---\n",
      "4 |   |   |   |   |   |\n",
      "   --- --- --- --- ---\n",
      "5 |   |   |   |   |   |\n",
      "   --- --- --- --- ---\n",
      "Player 1 (X), enter your move (e.g., A1, B3): E5\n",
      "\n",
      "Move accepted!\n",
      "\n",
      "   A   B   C   D   E\n",
      "   --- --- --- --- ---\n",
      "1 |   |   |   |   |   |\n",
      "   --- --- --- --- ---\n",
      "2 |   |   |   |   |   |\n",
      "   --- --- --- --- ---\n",
      "3 |   |   |   |   |   |\n",
      "   --- --- --- --- ---\n",
      "4 |   |   |   |   |   |\n",
      "   --- --- --- --- ---\n",
      "5 |   |   |   |   | X |\n",
      "   --- --- --- --- ---\n",
      "Player 2 (O), enter your move (e.g., A1, B3): D4\n",
      "\n",
      "Move accepted!\n",
      "\n",
      "   A   B   C   D   E\n",
      "   --- --- --- --- ---\n",
      "1 |   |   |   |   |   |\n",
      "   --- --- --- --- ---\n",
      "2 |   |   |   |   |   |\n",
      "   --- --- --- --- ---\n",
      "3 |   |   |   |   |   |\n",
      "   --- --- --- --- ---\n",
      "4 |   |   |   | O |   |\n",
      "   --- --- --- --- ---\n",
      "5 |   |   |   |   | X |\n",
      "   --- --- --- --- ---\n",
      "Player 1 (X), enter your move (e.g., A1, B3): E4\n",
      "\n",
      "Move accepted!\n",
      "\n",
      "   A   B   C   D   E\n",
      "   --- --- --- --- ---\n",
      "1 |   |   |   |   |   |\n",
      "   --- --- --- --- ---\n",
      "2 |   |   |   |   |   |\n",
      "   --- --- --- --- ---\n",
      "3 |   |   |   |   |   |\n",
      "   --- --- --- --- ---\n",
      "4 |   |   |   | O | X |\n",
      "   --- --- --- --- ---\n",
      "5 |   |   |   |   | X |\n",
      "   --- --- --- --- ---\n",
      "Player 2 (O), enter your move (e.g., A1, B3): E4\n",
      "Invalid move. Try again.\n",
      "Player 2 (O), enter your move (e.g., A1, B3): A1\n",
      "\n",
      "Move accepted!\n",
      "\n",
      "   A   B   C   D   E\n",
      "   --- --- --- --- ---\n",
      "1 | O |   |   |   |   |\n",
      "   --- --- --- --- ---\n",
      "2 |   |   |   |   |   |\n",
      "   --- --- --- --- ---\n",
      "3 |   |   |   |   |   |\n",
      "   --- --- --- --- ---\n",
      "4 |   |   |   | O | X |\n",
      "   --- --- --- --- ---\n",
      "5 |   |   |   |   | X |\n",
      "   --- --- --- --- ---\n",
      "Player 1 (X), enter your move (e.g., A1, B3): E3\n",
      "\n",
      "Move accepted!\n",
      "\n",
      "   A   B   C   D   E\n",
      "   --- --- --- --- ---\n",
      "1 | O |   |   |   |   |\n",
      "   --- --- --- --- ---\n",
      "2 |   |   |   |   |   |\n",
      "   --- --- --- --- ---\n",
      "3 |   |   |   |   | X |\n",
      "   --- --- --- --- ---\n",
      "4 |   |   |   | O | X |\n",
      "   --- --- --- --- ---\n",
      "5 |   |   |   |   | X |\n",
      "   --- --- --- --- ---\n",
      "Player 2 (O), enter your move (e.g., A1, B3): 3D\n",
      "Invalid move. Try again.\n",
      "Player 2 (O), enter your move (e.g., A1, B3): 3A\n",
      "Invalid move. Try again.\n",
      "Player 2 (O), enter your move (e.g., A1, B3): A3\n",
      "\n",
      "Move accepted!\n",
      "\n",
      "   A   B   C   D   E\n",
      "   --- --- --- --- ---\n",
      "1 | O |   |   |   |   |\n",
      "   --- --- --- --- ---\n",
      "2 |   |   |   |   |   |\n",
      "   --- --- --- --- ---\n",
      "3 | O |   |   |   | X |\n",
      "   --- --- --- --- ---\n",
      "4 |   |   |   | O | X |\n",
      "   --- --- --- --- ---\n",
      "5 |   |   |   |   | X |\n",
      "   --- --- --- --- ---\n",
      "Player 1 (X), enter your move (e.g., A1, B3): E2\n",
      "\n",
      "Move accepted!\n",
      "\n",
      "   A   B   C   D   E\n",
      "   --- --- --- --- ---\n",
      "1 | O |   |   |   |   |\n",
      "   --- --- --- --- ---\n",
      "2 |   |   |   |   | X |\n",
      "   --- --- --- --- ---\n",
      "3 | O |   |   |   | X |\n",
      "   --- --- --- --- ---\n",
      "4 |   |   |   | O | X |\n",
      "   --- --- --- --- ---\n",
      "5 |   |   |   |   | X |\n",
      "   --- --- --- --- ---\n",
      "Player 2 (O), enter your move (e.g., A1, B3): B2\n",
      "\n",
      "Move accepted!\n",
      "\n",
      "   A   B   C   D   E\n",
      "   --- --- --- --- ---\n",
      "1 | O |   |   |   |   |\n",
      "   --- --- --- --- ---\n",
      "2 |   | O |   |   | X |\n",
      "   --- --- --- --- ---\n",
      "3 | O |   |   |   | X |\n",
      "   --- --- --- --- ---\n",
      "4 |   |   |   | O | X |\n",
      "   --- --- --- --- ---\n",
      "5 |   |   |   |   | X |\n",
      "   --- --- --- --- ---\n",
      "Player 1 (X), enter your move (e.g., A1, B3): E1\n",
      "\n",
      "Move accepted!\n",
      "\n",
      "   A   B   C   D   E\n",
      "   --- --- --- --- ---\n",
      "1 | O |   |   |   | X |\n",
      "   --- --- --- --- ---\n",
      "2 |   | O |   |   | X |\n",
      "   --- --- --- --- ---\n",
      "3 | O |   |   |   | X |\n",
      "   --- --- --- --- ---\n",
      "4 |   |   |   | O | X |\n",
      "   --- --- --- --- ---\n",
      "5 |   |   |   |   | X |\n",
      "   --- --- --- --- ---\n",
      "🎉 Player 1 (X) wins!\n"
     ]
    }
   ],
   "source": [
    "def tic_tac_toe_5():\n",
    "    print(\"Welcome to Tic-Tac-Toe!\")\n",
    "    size = 5  # Set board size to 5x5\n",
    "    board = [[0] * size for _ in range(size)]\n",
    "\n",
    "    draw_tic_tac_toe_board_labeled(board)\n",
    "    \n",
    "    current_player = 1\n",
    "\n",
    "    while True:\n",
    "        player_turn(board, current_player)\n",
    "        status = check_winner(board)\n",
    "\n",
    "        if status == 1:\n",
    "            print(\"🎉 Player 1 (X) wins!\")\n",
    "            break\n",
    "        elif status == 2:\n",
    "            print(\"🎉 Player 2 (O) wins!\")\n",
    "            break\n",
    "        elif status == 0:\n",
    "            print(\"It's a draw!\")\n",
    "            break\n",
    "\n",
    "        current_player = 2 if current_player == 1 else 1\n",
    "\n",
    "tic_tac_toe_5()"
   ]
  },
  {
   "cell_type": "markdown",
   "metadata": {},
   "source": [
    "*Exercise 11:* (Advanced / Challenge) Develop a version of the game where one player is the computer. Note that you don't need to do an extensive seach for the best move. You can have the computer simply protect against loosing and otherwise try to win with straight or diagonal patterns."
   ]
  },
  {
   "cell_type": "code",
   "execution_count": null,
   "metadata": {
    "collapsed": true
   },
   "outputs": [],
   "source": [
    "# Write you solution here"
   ]
  },
  {
   "cell_type": "code",
   "execution_count": null,
   "metadata": {
    "collapsed": true
   },
   "outputs": [],
   "source": [
    "# Test your solution here"
   ]
  }
 ],
 "metadata": {
  "kernelspec": {
   "display_name": "Python 3 (ipykernel)",
   "language": "python",
   "name": "python3"
  },
  "language_info": {
   "codemirror_mode": {
    "name": "ipython",
    "version": 3
   },
   "file_extension": ".py",
   "mimetype": "text/x-python",
   "name": "python",
   "nbconvert_exporter": "python",
   "pygments_lexer": "ipython3",
   "version": "3.12.3"
  }
 },
 "nbformat": 4,
 "nbformat_minor": 2
}
