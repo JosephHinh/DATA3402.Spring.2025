{
 "cells": [
  {
   "cell_type": "markdown",
   "metadata": {},
   "source": [
    "# Lab 3\n",
    "\n",
    "In this lab we will become familiar with distributions, histograms, and functional programming. Do not use numpy or any other library for this lab.\n",
    "\n",
    "Before that, lets get setup homework submission and submit your previous lab.  \n",
    "\n",
    "## Working on the Command-line.\n",
    "\n",
    "It is important for you to learn to work on the command line and to be familiar with the Unix environment (e.g. Linux, Mac OS, or Windows Linux Subsystem). We'll go over working on the command-line in detail later in the course.\n",
    "\n",
    "You are required to submit your work in this course via GitHub. Today in class, you will setup everything on the command-line.\n",
    "\n",
    "### Command-line basics\n",
    "\n",
    "There is plenty of material online that will help you figure out how to do various tasks on the command line. Commands you may need to know today:\n",
    "\n",
    "* `ls`: lists the contents of the current directory.\n",
    "* `pwd`: prints the path of the current directory.\n",
    "* `cd <directory>`: changes your current directory to the specified directory.\n",
    "* `cd ..`: changes current directory to the previous directory. Basically steps out of the current directory to the directory containing the current directory.\n",
    "* `mkdir <directory>`: create a new directory with the specified name.\n",
    "* `rmdir <directory>`: removes the specified directory. Note it has to be empty.\n",
    "* `rm <filename>`: deletes the specified file.\n",
    "* `mv <filename 1> <filename 2>`: Moves or renames a file.\n",
    "* `cp <filename 1> <filename 2>`: copies an file. If you just provide a path to a directory, it copies the file into that directory with the same filename. If you specifiy a new filename, the copy has a new name. For example `cp File.1.txt File.2.txt` creates a copy of `File.1.txt` with the name `File.2.txt`. Meanwhile `cp File.1.txt my_directory`, where `my_directory` is a directory, creates a copy of `File.1.txt` in directory `my_directory` with the name `File.1.txt`.\n",
    "\n",
    "For reference, here are some example resources I found by googling:\n",
    "\n",
    "* Paths and Wildcards: https://www.warp.dev/terminus/linux-wildcards\n",
    "* Basic commands like copy: https://kb.iu.edu/d/afsk\n",
    "* General introduction to shell: https://github-pages.ucl.ac.uk/RCPSTrainingMaterials/HPCandHTCusingLegion/2_intro_to_shell.html\n",
    "* Manual pages: https://www.geeksforgeeks.org/linux-man-page-entries-different-types/?ref=ml_lbp\n",
    "* Chaining commands: https://www.geeksforgeeks.org/chaining-commands-in-linux/?ref=ml_lbp\n",
    "* Piping: https://www.geeksforgeeks.org/piping-in-unix-or-linux/\n",
    "* Using sed: https://www.geeksforgeeks.org/sed-command-linux-set-2/?ref=ml_lbp\n",
    "* Various Unix commands: https://www.geeksforgeeks.org/linux-commands/?ref=lbp\n",
    "* Cheat sheets:\n",
    "    * https://www.stationx.net/unix-commands-cheat-sheet/\n",
    "    * https://cheatography.com/davechild/cheat-sheets/linux-command-line/\n",
    "    * https://www.theknowledgeacademy.com/blog/unix-commands-cheat-sheet/\n",
    "    \n",
    "These aren't necessarily the best resources. Feel free to search for better ones. Also, don't forget that Unix has built-in manual pages for all of its commands. Just type `man <command>` at the command prompt. Use the space-bar to scroll through the documentation and \"q\" to exit.\n",
    "\n",
    "\n",
    "### Setup and Submission\n",
    "\n",
    "Our course repository is public. The instructions here aim to have you setup a fork of the course repository. Unfortunately because you are forking a public repo, your fork will have to be public also. \n",
    "\n",
    "You should be familiar with git from the first semester of this course. I assume that you all have github accounts and have setup things to be able to [push to github using ssh](https://docs.github.com/en/github/authenticating-to-github/connecting-to-github-with-ssh). The instuctions here lead you to:\n",
    "\n",
    "We'll overview what you will do before going through step by step instructions.\n",
    "\n",
    "1. Setup:\n",
    "    1. Fork the class repository. Some directions in [fork-a-repo](https://docs.github.com/en/github/getting-started-with-github/fork-a-repo).\n",
    "    1. Create a directory on your personal system where you will keep all course materials.\n",
    "    1. In that directory, clone your fork of the repository.\n",
    "    1. Using `git remote`, set the upstream to be the class repo, so you can pull from the class and push to your fork.\n",
    "\n",
    "1. Submission:\n",
    "    1. Copy your solutions into the appropriate directory (e.g. into `Labs/Lab.2/`) and with appropriate filename `Lab.2.solution.ipynb'.\n",
    "    1. Commit / push your solutions.\n",
    "    1. Grant access to course instructors.\n",
    "\n",
    "Below are step by step instructions with examples (including example directory naming convention). Feel free to modify things as you see fit. \n",
    "\n",
    "#### Setup\n",
    "You should only need to follow this instructions once. Here are some useful git commands:\n",
    "\n",
    "* Git help: `git help`\n",
    "* Git remote help: `git help remote`\n",
    "* Check remote status: `git remote -v`\n",
    "* Add a remote: `git remote add <stream name> <repo URL>`\n",
    "* Add a remove: `git remote remove <stream name>`\n",
    "\n",
    "Steps:\n",
    "1. In a browser, log into GitHub and navigate to the [course repository](https://github.com/UTA-DataScience/DATA3402.Spring.2025).\n",
    "1. On the top right of the page, press the fork button to create a new fork into your own GitHub account.\n",
    "1. After successful fork, you should find the browser showing your fork of the course repository. Use the green \"Code\" button to copy path to the repo into your the clipboard of your computer.\n",
    "1. Open a shell on your personal computer.\n",
    "1. If you have not done so already, create a new directory/folder where you will keep all course material to navigate to it. For example: `mkdir Data-3402` and `cd Data-3402`.\n",
    "1. Clone your fork of the repository using `git clone` followed by the path you copied into your clipboard. (copy/paste)\n",
    "1. Paste the URL to your fork in the worksheet for the TAs and instructors.\n",
    "1. Now go into the directory of your clone (`cd DATA3402.Spring.2025`).\n",
    "1. Type `git remote -v` to see the current setup for fetch and pull.\n",
    "1. Note the URL you see. This should be the same as what you used for your clone for both push and fetch.\n",
    "1. Delete the origin remote using `git remote remove origin`.\n",
    "1. Add the course repo as your remote using `git remote add origin https://github.com/UTA-DataScience/DATA3402.Spring.2025.git`.\n",
    "1. Change the push to point to your fork. This means you will need the URL to your clone we copied earlier and confirmed as the original origin. The command will look something like: `git remote set-url --push origin  https://github.com/XXXXXX/DATA3402.Spring.2025.git`, where XXXXX is your username on GitHub.\n",
    "1. Note that if you setup everything correctly, you now should be able to do `git pull` to get updates from the course repo, and do `git push` to push your commits into your own fork.\n",
    "\n",
    "### Submission\n",
    "These instructions outline how you submit files. Some useful commands:\n",
    "* To add a file to local repository: `git add <file>`.\n",
    "* To commit all changed files into local repository: `git -a -m \"A message\"`. You need to provide some comment when you commit. \n",
    "* To push the commited files from the local repository to GitHub: `git push`.\n",
    "* To get updates from GitHub: `git pull`.\n",
    "\n",
    "Steps:\n",
    "1. To submit your labs, navigate to your clone of your fork of the course repository. \n",
    "1. Use `git pull` to make sure you have the latest updates. \n",
    "1. Make sure your copy of the lab your are working on is in the appropriate place in this clone. That means if you have the file elsewhere, copy it to the same directory in your clone of your fork. \n",
    "1. Note that in order to avoid future conflicts, you should always name your solution differently than the original file in the class repo. For example if your file is still named `Lab.2.ipynb` you should rename it using the `mv` command: `mv Lab.2.ipynb Lab.2.solution.ipynb`. \n",
    "1. Add and files you wish to submit into the repo. For example: `git add Labs/Lab.2/Lab.2.solution.ipynb`\n",
    "1. Commit any changes: `git commit -a -m \"Lab 2 updates\"`\n",
    "1. Push your changes: `git push`\n",
    "1. Check on github website that your solutions have been properly submitted.\n",
    "\n",
    "Before you leave the session today, make sure your GitHub Repo is setup. If you need to work further on your lab, navigate jupyter to the copy of the lab you just submitted and work there. Once done, repeat the commit and push commands to submit your updated solution. Note that lab 2 is due by midnight Friay 1/31/2025.\n"
   ]
  },
  {
   "cell_type": "markdown",
   "metadata": {},
   "source": [
    "### Uniform Distribution\n",
    "Lets start with generating some fake random data. You can get a random number between 0 and 1 using the python random module as follow:"
   ]
  },
  {
   "cell_type": "code",
   "execution_count": 3,
   "metadata": {},
   "outputs": [
    {
     "name": "stdout",
     "output_type": "stream",
     "text": [
      "The Value of x is 0.8121438348297318\n"
     ]
    }
   ],
   "source": [
    "import random\n",
    "x=random.random()\n",
    "print(\"The Value of x is\", x)"
   ]
  },
  {
   "cell_type": "markdown",
   "metadata": {},
   "source": [
    "Everytime you call random, you will get a new number.\n",
    "\n",
    "*Exercise 1:* Using random, write a function `generate_uniform(N, mymin, mymax)`, that returns a python list containing N random numbers between specified minimum and maximum value. Note that you may want to quickly work out on paper how to turn numbers between 0 and 1 to between other values. "
   ]
  },
  {
   "cell_type": "code",
   "execution_count": 19,
   "metadata": {},
   "outputs": [],
   "source": [
    "def generate_uniform(N,x_min,x_max):\n",
    "    out = [random.uniform(x_min,x_max) for _ in range(N)]\n",
    "    return out"
   ]
  },
  {
   "cell_type": "code",
   "execution_count": 20,
   "metadata": {},
   "outputs": [
    {
     "name": "stdout",
     "output_type": "stream",
     "text": [
      "Data Type: <class 'list'>\n",
      "Data Length: 1000\n",
      "Type of Data Contents: <class 'float'>\n",
      "Data Minimum: -9.972879002504678\n",
      "Data Maximum: 9.988257468139608\n"
     ]
    }
   ],
   "source": [
    "data=generate_uniform(1000,-10,10)\n",
    "print (\"Data Type:\", type(data))\n",
    "print (\"Data Length:\", len(data))\n",
    "if len(data)>0: \n",
    "    print (\"Type of Data Contents:\", type(data[0]))\n",
    "    print (\"Data Minimum:\", min(data))\n",
    "    print (\"Data Maximum:\", max(data))"
   ]
  },
  {
   "cell_type": "markdown",
   "metadata": {},
   "source": [
    "*Exercise 2a:* \n",
    "Write a function that computes the mean of values in a list. Recall the equation for the mean of a random variable $\\bf{x}$ computed on a data set of $n$ values $\\{ x_i \\} = \\{x_1, x_2, ..., x_n\\}$  is ${\\bf\\bar{x}} = \\frac{1}{n} \\sum_i^n x_i$."
   ]
  },
  {
   "cell_type": "code",
   "execution_count": 29,
   "metadata": {},
   "outputs": [],
   "source": [
    "def mean(data):\n",
    "    m = 0.\n",
    "\n",
    "    if len(data) > 0:\n",
    "        m = sum(data) / len(data)\n",
    "\n",
    "    return m"
   ]
  },
  {
   "cell_type": "code",
   "execution_count": 30,
   "metadata": {},
   "outputs": [
    {
     "name": "stdout",
     "output_type": "stream",
     "text": [
      "Mean of Data: 0.16915326643141437\n"
     ]
    }
   ],
   "source": [
    "print (\"Mean of Data:\", mean(data))"
   ]
  },
  {
   "cell_type": "markdown",
   "metadata": {},
   "source": [
    "*Exercise 2b:* \n",
    "Write a function that computes the variance of values in a list. Recall the equation for the variance of a random variable $\\bf{x}$ computed on a data set of $n$ values $\\{ x_i \\} = \\{x_1, x_2, ..., x_n\\}$  is ${\\bf\\langle x \\rangle} = \\frac{1}{n} \\sum_i^n (x_i - {\\bf\\bar{x}})$."
   ]
  },
  {
   "cell_type": "code",
   "execution_count": 33,
   "metadata": {},
   "outputs": [],
   "source": [
    "def variance(data):\n",
    "    m = 0.\n",
    "    \n",
    "    if len(data) > 1:\n",
    "        mean_value = sum(data) / len(data)\n",
    "        m = sum((x - mean_value) ** 2 for x in data) / len(data)\n",
    "    \n",
    "    return m"
   ]
  },
  {
   "cell_type": "code",
   "execution_count": 34,
   "metadata": {},
   "outputs": [
    {
     "name": "stdout",
     "output_type": "stream",
     "text": [
      "Variance of Data: 33.381739180829534\n"
     ]
    }
   ],
   "source": [
    "print(\"Variance of Data:\", variance(data))"
   ]
  },
  {
   "cell_type": "markdown",
   "metadata": {},
   "source": [
    "## Histogramming"
   ]
  },
  {
   "cell_type": "markdown",
   "metadata": {},
   "source": [
    "*Exercise 3:* Write a function that bins the data so that you can create a histogram. An example of how to implement histogramming is the following logic:\n",
    "\n",
    "* User inputs a list of values `x` and optionally `n_bins` which defaults to 10.\n",
    "* If not supplied, find the minimum and maximum (`x_min`,`x_max`) of the values in x.\n",
    "* Determine the bin size (`bin_size`) by dividing the range of the function by the number of bins.\n",
    "* Create an empty list of zeros of size `n_bins`, call it `hist`.\n",
    "* Loop over the values in `x`\n",
    "    * Loop over the values in `hist` with index `i`:\n",
    "        * If x is between `x_min+i*bin_size` and `x_min+(i+1)*bin_size`, increment `hist[i].` \n",
    "        * For efficiency, try to use continue to goto the next bin and data point.\n",
    "* Return `hist` and the list corresponding of the bin edges (i.e. of `x_min+i*bin_size`).    "
   ]
  },
  {
   "cell_type": "code",
   "execution_count": 35,
   "metadata": {},
   "outputs": [],
   "source": [
    "def histogram(x, n_bins=10, x_min=None, x_max=None):\n",
    "\n",
    "    if x_min is None:\n",
    "        x_min = min(x)\n",
    "    if x_max is None:\n",
    "        x_max = max(x)\n",
    "    \n",
    "    bin_size = (x_max - x_min) / n_bins\n",
    "    \n",
    "    hist = [0] * n_bins\n",
    "    \n",
    "    bin_edges = [x_min + i * bin_size for i in range(n_bins + 1)]\n",
    "\n",
    "    for value in x:\n",
    "        for i in range(n_bins):\n",
    "            if x_min + i * bin_size <= value < x_min + (i + 1) * bin_size:\n",
    "                hist[i] += 1\n",
    "                break\n",
    "\n",
    "    return hist, bin_edges"
   ]
  },
  {
   "cell_type": "code",
   "execution_count": 36,
   "metadata": {},
   "outputs": [
    {
     "name": "stdout",
     "output_type": "stream",
     "text": [
      "[14, 10, 8, 13, 12, 10, 10, 7, 5, 10, 10, 13, 10, 4, 10, 12, 10, 7, 11, 11, 10, 7, 10, 13, 7, 8, 11, 4, 18, 9, 7, 8, 11, 9, 11, 10, 12, 7, 6, 7, 8, 13, 13, 11, 12, 11, 11, 8, 8, 12, 10, 8, 5, 7, 6, 11, 3, 10, 10, 11, 9, 10, 9, 10, 14, 12, 14, 12, 7, 9, 17, 17, 8, 10, 15, 18, 11, 10, 15, 6, 11, 11, 8, 10, 10, 5, 19, 10, 7, 10, 6, 13, 11, 8, 6, 9, 11, 7, 11, 13]\n"
     ]
    }
   ],
   "source": [
    "h, b = histogram(data, 100)\n",
    "print(h)"
   ]
  },
  {
   "cell_type": "markdown",
   "metadata": {},
   "source": [
    "*Exercise 4:* Write a function that uses the histogram function in the previous exercise to create a text-based \"graph\". For example the output could look like the following:\n",
    "```\n",
    "[  0,  1] : ######\n",
    "[  1,  2] : #####\n",
    "[  2,  3] : ######\n",
    "[  3,  4] : ####\n",
    "[  4,  5] : ####\n",
    "[  5,  6] : ######\n",
    "[  6,  7] : #####\n",
    "[  7,  8] : ######\n",
    "[  8,  9] : ####\n",
    "[  9, 10] : #####\n",
    "```\n",
    "\n",
    "Where each line corresponds to a bin and the number of `#`'s are proportional to the value of the data in the bin. "
   ]
  },
  {
   "cell_type": "code",
   "execution_count": 40,
   "metadata": {},
   "outputs": [],
   "source": [
    "def histogram(x, n_bins=10, x_min=None, x_max=None):\n",
    "    if x_min is None:\n",
    "        x_min = min(x)\n",
    "    if x_max is None:\n",
    "        x_max = max(x)\n",
    "    \n",
    "    bin_size = (x_max - x_min) / n_bins\n",
    "    \n",
    "    hist = [0] * n_bins\n",
    "    bin_edges = [x_min + i * bin_size for i in range(n_bins + 1)]\n",
    "    \n",
    "    for value in x:\n",
    "        for i in range(n_bins):\n",
    "            if x_min + i * bin_size <= value < x_min + (i + 1) * bin_size:\n",
    "                hist[i] += 1\n",
    "                break\n",
    "    \n",
    "    return hist, bin_edges\n",
    "\n",
    "def print_histogram(x, n_bins=10):\n",
    "    hist, bin_edges = histogram(x, n_bins)\n",
    "    \n",
    "    max_count = max(hist) if hist else 1  # Avoid division by zero\n",
    "    scale = 40 / max_count  # Scale bars to fit within 40 characters\n",
    "\n",
    "    for i in range(n_bins):\n",
    "        bin_range = f\"[{bin_edges[i]:.1f}, {bin_edges[i+1]:.1f}]\"\n",
    "        bar = \"#\" * int(hist[i] * scale)\n",
    "        print(f\"{bin_range} : {bar}\")"
   ]
  },
  {
   "cell_type": "code",
   "execution_count": 41,
   "metadata": {},
   "outputs": [
    {
     "name": "stdout",
     "output_type": "stream",
     "text": [
      "[-10.0, -8.0] : ###############################\n",
      "[-8.0, -6.0] : ##############################\n",
      "[-6.0, -4.0] : ##############################\n",
      "[-4.0, -2.0] : ###########################\n",
      "[-2.0, 0.0] : #################################\n",
      "[0.0, 2.0] : #########################\n",
      "[2.0, 4.0] : #################################\n",
      "[4.0, 6.0] : ########################################\n",
      "[6.0, 8.0] : ###############################\n",
      "[8.0, 10.0] : #############################\n"
     ]
    }
   ],
   "source": [
    "print_histogram(data, 10)"
   ]
  },
  {
   "cell_type": "markdown",
   "metadata": {},
   "source": [
    "## Functional Programming\n",
    "\n",
    "*Exercise 5:* Write a function the applies a booling function (that returns true/false) to every element in data, and return a list of indices of elements where the result was true. Use this function to find the indices of entries greater than 0.5. "
   ]
  },
  {
   "cell_type": "code",
   "execution_count": 44,
   "metadata": {},
   "outputs": [],
   "source": [
    "def where(mylist, myfunc):\n",
    "    out = []\n",
    "    \n",
    "    for i, value in enumerate(mylist):\n",
    "        if myfunc(value):\n",
    "            out.append(i)\n",
    "    \n",
    "    return out"
   ]
  },
  {
   "cell_type": "code",
   "execution_count": 46,
   "metadata": {},
   "outputs": [
    {
     "name": "stdout",
     "output_type": "stream",
     "text": [
      "Elements > 0.5: [0, 2, 3, 6, 9, 10, 13, 16, 22, 23, 24, 29, 33, 35, 37, 39, 40, 41, 43, 44, 48, 50, 53, 55, 58, 59, 66, 67, 69, 72, 73, 78, 80, 82, 83, 84, 85, 86, 91, 92, 93, 94, 95, 96]\n"
     ]
    }
   ],
   "source": [
    "data = [random.uniform(0, 1) for _ in range(100)]\n",
    "greater_than_0_5 = lambda x: x > 0.5\n",
    "indices = where(data, greater_than_0_5)\n",
    "print(\"Elements > 0.5:\", indices)"
   ]
  },
  {
   "cell_type": "markdown",
   "metadata": {},
   "source": [
    "*Exercise 6:* The `inrange(mymin,mymax)` function below returns a function that tests if it's input is between the specified values. Write corresponding functions that test:\n",
    "* Even\n",
    "* Odd\n",
    "* Greater than\n",
    "* Less than\n",
    "* Equal\n",
    "* Divisible by"
   ]
  },
  {
   "cell_type": "code",
   "execution_count": null,
   "metadata": {},
   "outputs": [],
   "source": [
    "def in_range(mymin,mymax):\n",
    "    def testrange(x):\n",
    "        return x<mymax and x>=mymin\n",
    "    return testrange\n",
    "\n",
    "F1=inrange(0,10)\n",
    "F2=inrange(10,20)\n",
    "\n",
    "print (F1(0), F1(1), F1(10), F1(15), F1(20))\n",
    "print (F2(0), F2(1), F2(10), F2(15), F2(20))\n",
    "\n",
    "print (\"Number of Entries passing F1:\", len(where(data,F1)))\n",
    "print (\"Number of Entries passing F2:\", len(where(data,F2)))"
   ]
  },
  {
   "cell_type": "code",
   "execution_count": 50,
   "metadata": {},
   "outputs": [],
   "source": [
    "def in_range(mymin, mymax):\n",
    "    def testrange(x):\n",
    "        return mymin <= x < mymax\n",
    "    return testrange\n",
    "\n",
    "def is_even():\n",
    "    return lambda x: x % 2 == 0\n",
    "\n",
    "def is_odd():\n",
    "    return lambda x: x % 2 != 0\n",
    "\n",
    "def greater_than(value):\n",
    "    return lambda x: x > value\n",
    "\n",
    "def less_than(value):\n",
    "    return lambda x: x < value\n",
    "\n",
    "def equal_to(value):\n",
    "    return lambda x: x == value\n",
    "\n",
    "def divisible_by(value):\n",
    "    return lambda x: x % value == 0\n",
    "\n",
    "def where(mylist, myfunc):\n",
    "    out = []\n",
    "    for i, value in enumerate(mylist):\n",
    "        if myfunc(value):\n",
    "            out.append(i)\n",
    "    return out"
   ]
  },
  {
   "cell_type": "code",
   "execution_count": 49,
   "metadata": {},
   "outputs": [
    {
     "name": "stdout",
     "output_type": "stream",
     "text": [
      "Generated data: [68, 75, 10, 84, 49, 32, 69, 94, 61, 58, 54, 24, 14, 20, 91, 73, 86, 44, 30, 22]\n",
      "Entries in range [10, 50): 9 -> [2, 4, 5, 11, 12, 13, 17, 18, 19]\n",
      "Entries greater than 50: 11 -> [0, 1, 3, 6, 7, 8, 9, 10, 14, 15, 16]\n",
      "Even numbers: 14 -> [0, 2, 3, 5, 7, 9, 10, 11, 12, 13, 16, 17, 18, 19]\n",
      "Numbers divisible by 5: 4 -> [1, 2, 13, 18]\n"
     ]
    }
   ],
   "source": [
    "data = [random.randint(0, 100) for _ in range(20)]\n",
    "\n",
    "F1 = in_range(10, 50)\n",
    "F2 = greater_than(50)\n",
    "F3 = is_even()\n",
    "F4 = divisible_by(5)\n",
    "\n",
    "indices_F1 = where(data, F1)\n",
    "indices_F2 = where(data, F2)\n",
    "indices_F3 = where(data, F3)\n",
    "indices_F4 = where(data, F4)\n",
    "\n",
    "print(\"Generated data:\", data)\n",
    "print(\"Entries in range [10, 50):\", len(indices_F1), \"->\", indices_F1)\n",
    "print(\"Entries greater than 50:\", len(indices_F2), \"->\", indices_F2)\n",
    "print(\"Even numbers:\", len(indices_F3), \"->\", indices_F3)\n",
    "print(\"Numbers divisible by 5:\", len(indices_F4), \"->\", indices_F4)"
   ]
  },
  {
   "cell_type": "markdown",
   "metadata": {},
   "source": [
    "*Exercise 7:* Repeat the previous exercise using `lambda` and the built-in python functions sum and map instead of your solution above. "
   ]
  },
  {
   "cell_type": "code",
   "execution_count": 51,
   "metadata": {},
   "outputs": [
    {
     "name": "stdout",
     "output_type": "stream",
     "text": [
      "Generated data: [100, 90, 38, 33, 4, 35, 32, 76, 100, 85, 74, 75, 71, 11, 80, 27, 52, 80, 32, 35]\n",
      "Entries in range [10, 50): 8 -> [2, 3, 5, 6, 13, 15, 18, 19]\n",
      "Entries greater than 50: 11 -> [0, 1, 7, 8, 9, 10, 11, 12, 14, 16, 17]\n",
      "Even numbers: 12 -> [0, 1, 2, 4, 6, 7, 8, 10, 14, 16, 17, 18]\n",
      "Numbers divisible by 5: 9 -> [0, 1, 5, 8, 9, 11, 14, 17, 19]\n"
     ]
    }
   ],
   "source": [
    "import random\n",
    "\n",
    "data = [random.randint(0, 100) for _ in range(20)]\n",
    "\n",
    "F1 = lambda x: 10 <= x < 50\n",
    "F2 = lambda x: x > 50\n",
    "F3 = lambda x: x % 2 == 0\n",
    "F4 = lambda x: x % 5 == 0\n",
    "\n",
    "indices_F1 = list(map(lambda x: x if F1(data[x]) else None, range(len(data))))\n",
    "indices_F2 = list(map(lambda x: x if F2(data[x]) else None, range(len(data))))\n",
    "indices_F3 = list(map(lambda x: x if F3(data[x]) else None, range(len(data))))\n",
    "indices_F4 = list(map(lambda x: x if F4(data[x]) else None, range(len(data))))\n",
    "\n",
    "indices_F1 = list(filter(lambda x: x is not None, indices_F1))\n",
    "indices_F2 = list(filter(lambda x: x is not None, indices_F2))\n",
    "indices_F3 = list(filter(lambda x: x is not None, indices_F3))\n",
    "indices_F4 = list(filter(lambda x: x is not None, indices_F4))\n",
    "\n",
    "print(\"Generated data:\", data)\n",
    "print(\"Entries in range [10, 50):\", len(indices_F1), \"->\", indices_F1)\n",
    "print(\"Entries greater than 50:\", len(indices_F2), \"->\", indices_F2)\n",
    "print(\"Even numbers:\", len(indices_F3), \"->\", indices_F3)\n",
    "print(\"Numbers divisible by 5:\", len(indices_F4), \"->\", indices_F4)"
   ]
  },
  {
   "cell_type": "markdown",
   "metadata": {},
   "source": [
    "## Monte Carlo\n",
    "\n",
    "*Exercise 7:* Write a \"generator\" function called `generate_function(func,x_min,x_max,N)`, that instead of generating a flat distribution, generates a distribution with functional form coded in `func`. Note that `func` will always be > 0.  \n",
    "\n",
    "Use the test function below and your histogramming functions above to demonstrate that your generator is working properly.\n",
    "\n",
    "Hint: A simple, but slow, solution is to a draw random number `test_x` within the specified range and another number `p` between the `min` and `max` of the function (which you will have to determine). If `p<=function(test_x)`, then place `test_x` on the output. If not, repeat the process, drawing two new numbers. Repeat until you have the specified number of generated numbers, `N`. For this problem, it's OK to determine the `min` and `max` by numerically sampling the function.  "
   ]
  },
  {
   "cell_type": "code",
   "execution_count": 8,
   "metadata": {},
   "outputs": [],
   "source": [
    "import numpy as np\n",
    "\n",
    "def generate_function(func, x_min, x_max, N=1000):\n",
    "    out = []\n",
    "    \n",
    "    x_samples = np.linspace(x_min, x_max, 1000)\n",
    "    f_max = max(func(x_samples))\n",
    "    \n",
    "    while len(out) < N:\n",
    "        test_x = np.random.uniform(x_min, x_max)\n",
    "        p = np.random.uniform(0, f_max)\n",
    "        if p <= func(test_x):\n",
    "            out.append(test_x)\n",
    "    \n",
    "    return np.array(out)"
   ]
  },
  {
   "cell_type": "code",
   "execution_count": 10,
   "metadata": {},
   "outputs": [
    {
     "name": "stdout",
     "output_type": "stream",
     "text": [
      "Generated 10000 samples\n",
      "Mean: 6.392297280814091\n",
      "Standard Deviation: 2.5150548759828775\n",
      "Min: 0.011056770187366505\n",
      "Max: 9.999485153418915\n"
     ]
    }
   ],
   "source": [
    "def test_func(x,a=1,b=1):\n",
    "    return abs(a*x+b)\n",
    "\n",
    "x_min = 0\n",
    "x_max = 10\n",
    "N = 10000\n",
    "\n",
    "generated_samples = generate_function(test_func, x_min, x_max, N)\n",
    "\n",
    "print(f\"Generated {N} samples\")\n",
    "print(f\"Mean: {np.mean(generated_samples)}\")\n",
    "print(f\"Standard Deviation: {np.std(generated_samples)}\")\n",
    "print(f\"Min: {np.min(generated_samples)}\")\n",
    "print(f\"Max: {np.max(generated_samples)}\")"
   ]
  },
  {
   "cell_type": "markdown",
   "metadata": {},
   "source": [
    "*Exercise 8:* Use your function to generate 1000 numbers that are normal distributed, using the `gaussian` function below. Confirm the mean and variance of the data is close to the mean and variance you specify when building the Gaussian. Histogram the data. "
   ]
  },
  {
   "cell_type": "code",
   "execution_count": 20,
   "metadata": {},
   "outputs": [
    {
     "name": "stdout",
     "output_type": "stream",
     "text": [
      "Generated 1000 samples\n",
      "Mean: 0.0138, Expected: 0\n",
      "Variance: 0.9399, Expected: 1\n",
      "% within one standard deviation: 68.10%, Expected: ~68%\n"
     ]
    }
   ],
   "source": [
    "import numpy as np\n",
    "import math\n",
    "\n",
    "def generate_function(func, x_min, x_max, N=1000):\n",
    "    out = []\n",
    "    \n",
    "    x_samples = np.linspace(x_min, x_max, 1000)\n",
    "    f_max = max(func(x) for x in x_samples)  # Apply function element-wise\n",
    "    \n",
    "    while len(out) < N:\n",
    "        test_x = np.random.uniform(x_min, x_max)\n",
    "        p = np.random.uniform(0, f_max)\n",
    "        if p <= func(test_x):\n",
    "            out.append(test_x)\n",
    "    \n",
    "    return np.array(out)\n",
    "\n",
    "def gaussian(mean, sigma):\n",
    "    def f(x):\n",
    "        return math.exp(-((x - mean) ** 2) / (2 * sigma ** 2)) / (math.sqrt(2 * math.pi) * sigma)\n",
    "    return f\n",
    "\n",
    "def in_range(data, x_min, x_max):\n",
    "    return (data >= x_min) & (data <= x_max)\n",
    "\n",
    "def integrate(func, x_min, x_max, n_points=1000):\n",
    "    samples = generate_function(func, x_min, x_max, n_points)\n",
    "    integral = len(samples) / n_points\n",
    "    return integral\n",
    "\n",
    "# Parameters\n",
    "x_min = -5\n",
    "x_max = 5\n",
    "N = 1000\n",
    "g1 = gaussian(0, 1)\n",
    "\n",
    "generated_samples = generate_function(g1, x_min, x_max, N)\n",
    "\n",
    "# Integration to find percentage within one standard deviation\n",
    "within_one_sigma = in_range(generated_samples, -1, 1)\n",
    "integral_result = np.sum(within_one_sigma) / N\n",
    "\n",
    "print(f\"Generated {N} samples\")\n",
    "print(f\"Mean: {np.mean(generated_samples):.4f}, Expected: 0\")\n",
    "print(f\"Variance: {np.var(generated_samples):.4f}, Expected: 1\")\n",
    "print(f\"% within one standard deviation: {integral_result * 100:.2f}%, Expected: ~68%\")"
   ]
  },
  {
   "cell_type": "markdown",
   "metadata": {},
   "source": [
    "*Exercise 9:* Combine your `generate_function`, `where`, and `in_range` functions above to create an integrate function. Use your integrate function to show that approximately 68% of Normal distribution is within one variance."
   ]
  },
  {
   "cell_type": "code",
   "execution_count": 29,
   "metadata": {},
   "outputs": [],
   "source": [
    "import numpy as np\n",
    "import math\n",
    "\n",
    "def generate_function(func, x_min, x_max, N=1000):\n",
    "    out = []\n",
    "    \n",
    "    x_samples = np.linspace(x_min, x_max, 1000)\n",
    "    f_max = max(func(x) for x in x_samples)  # Apply function element-wise\n",
    "    \n",
    "    while len(out) < N:\n",
    "        test_x = np.random.uniform(x_min, x_max)\n",
    "        p = np.random.uniform(0, f_max)\n",
    "        if p <= func(test_x):\n",
    "            out.append(test_x)\n",
    "    \n",
    "    return np.array(out)\n",
    "\n",
    "def gaussian(mean, sigma):\n",
    "    def f(x):\n",
    "        return math.exp(-((x - mean) ** 2) / (2 * sigma ** 2)) / (math.sqrt(2 * math.pi) * sigma)\n",
    "    return f\n",
    "\n",
    "def in_range(data, x_min, x_max):\n",
    "    return (data >= x_min) & (data <= x_max)\n",
    "\n",
    "def integrate(func, x_min, x_max, n_points=1000):\n",
    "    samples = generate_function(func, x_min, x_max, n_points)\n",
    "    integral = np.sum(in_range(samples, x_min, x_max)) / n_points\n",
    "    return integral"
   ]
  },
  {
   "cell_type": "code",
   "execution_count": 30,
   "metadata": {},
   "outputs": [
    {
     "name": "stdout",
     "output_type": "stream",
     "text": [
      "Generated 1000 samples\n",
      "Mean: 0.0447, Expected: 0\n",
      "Variance: 0.9607, Expected: 1\n",
      "Percentage within one standard deviation: 100.00%, Expected: ~68%\n"
     ]
    }
   ],
   "source": [
    "x_min = -5\n",
    "x_max = 5\n",
    "N = 1000\n",
    "g1 = gaussian(0, 1)\n",
    "\n",
    "generated_samples = generate_function(g1, x_min, x_max, N)\n",
    "\n",
    "integral_result = integrate(g1, -1, 1, N)\n",
    "\n",
    "print(f\"Generated {N} samples\")\n",
    "print(f\"Mean: {np.mean(generated_samples):.4f}, Expected: 0\")\n",
    "print(f\"Variance: {np.var(generated_samples):.4f}, Expected: 1\")\n",
    "print(f\"Percentage within one standard deviation: {integral_result * 100:.2f}%, Expected: ~68%\")"
   ]
  },
  {
   "cell_type": "code",
   "execution_count": null,
   "metadata": {},
   "outputs": [],
   "source": []
  }
 ],
 "metadata": {
  "kernelspec": {
   "display_name": "Python 3 (ipykernel)",
   "language": "python",
   "name": "python3"
  },
  "language_info": {
   "codemirror_mode": {
    "name": "ipython",
    "version": 3
   },
   "file_extension": ".py",
   "mimetype": "text/x-python",
   "name": "python",
   "nbconvert_exporter": "python",
   "pygments_lexer": "ipython3",
   "version": "3.12.3"
  }
 },
 "nbformat": 4,
 "nbformat_minor": 2
}
